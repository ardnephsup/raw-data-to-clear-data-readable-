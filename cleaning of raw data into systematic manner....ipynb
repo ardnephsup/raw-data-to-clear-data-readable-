{
 "cells": [
  {
   "cell_type": "code",
   "execution_count": 68,
   "id": "15bc6019",
   "metadata": {},
   "outputs": [],
   "source": [
    "import pandas as pd"
   ]
  },
  {
   "cell_type": "code",
   "execution_count": 69,
   "id": "a98eff06",
   "metadata": {},
   "outputs": [],
   "source": [
    "file=pd.read_excel(r'C:\\Users\\HP\\OneDrive\\Desktop\\naresh it data science\\python\\17 oct\\16th,17th matplotlib\\16th,17th matplotlib\\dt, time split\\TASK -- convert raw data - clean data.xlsx')"
   ]
  },
  {
   "cell_type": "code",
   "execution_count": 70,
   "id": "3b3441b5",
   "metadata": {},
   "outputs": [
    {
     "data": {
      "text/html": [
       "<div>\n",
       "<style scoped>\n",
       "    .dataframe tbody tr th:only-of-type {\n",
       "        vertical-align: middle;\n",
       "    }\n",
       "\n",
       "    .dataframe tbody tr th {\n",
       "        vertical-align: top;\n",
       "    }\n",
       "\n",
       "    .dataframe thead th {\n",
       "        text-align: right;\n",
       "    }\n",
       "</style>\n",
       "<table border=\"1\" class=\"dataframe\">\n",
       "  <thead>\n",
       "    <tr style=\"text-align: right;\">\n",
       "      <th></th>\n",
       "      <th>Unnamed: 0</th>\n",
       "      <th>Unnamed: 1</th>\n",
       "      <th>Unnamed: 2</th>\n",
       "      <th>Unnamed: 3</th>\n",
       "      <th>Unnamed: 4</th>\n",
       "      <th>Unnamed: 5</th>\n",
       "      <th>Unnamed: 6</th>\n",
       "      <th>Unnamed: 7</th>\n",
       "      <th>Unnamed: 8</th>\n",
       "      <th>Unnamed: 9</th>\n",
       "      <th>Unnamed: 10</th>\n",
       "      <th>Unnamed: 11</th>\n",
       "      <th>Unnamed: 12</th>\n",
       "      <th>Unnamed: 13</th>\n",
       "    </tr>\n",
       "  </thead>\n",
       "  <tbody>\n",
       "    <tr>\n",
       "      <th>0</th>\n",
       "      <td>NaN</td>\n",
       "      <td>THIS IS NOT CLEAN DATA</td>\n",
       "      <td>NaN</td>\n",
       "      <td>NaN</td>\n",
       "      <td>NaN</td>\n",
       "      <td>NaN</td>\n",
       "      <td>NaN</td>\n",
       "      <td>NaN</td>\n",
       "      <td>NaN</td>\n",
       "      <td>NaN</td>\n",
       "      <td>NaN</td>\n",
       "      <td>NaN</td>\n",
       "      <td>NaN</td>\n",
       "      <td>NaN</td>\n",
       "    </tr>\n",
       "    <tr>\n",
       "      <th>1</th>\n",
       "      <td>NaN</td>\n",
       "      <td>NaN</td>\n",
       "      <td>ADDR</td>\n",
       "      <td>DT</td>\n",
       "      <td>NAME</td>\n",
       "      <td>time</td>\n",
       "      <td>NaN</td>\n",
       "      <td>NaN</td>\n",
       "      <td>NaN</td>\n",
       "      <td>NaN</td>\n",
       "      <td>NaN</td>\n",
       "      <td>NaN</td>\n",
       "      <td>NaN</td>\n",
       "      <td>NaN</td>\n",
       "    </tr>\n",
       "    <tr>\n",
       "      <th>2</th>\n",
       "      <td>NaN</td>\n",
       "      <td>NaN</td>\n",
       "      <td>45 rd, kenith street, btm, bangalore 500038</td>\n",
       "      <td>2022-04-03 00:00:00</td>\n",
       "      <td>abc</td>\n",
       "      <td>8:30:21</td>\n",
       "      <td>NaN</td>\n",
       "      <td>NaN</td>\n",
       "      <td>NaN</td>\n",
       "      <td>NaN</td>\n",
       "      <td>NaN</td>\n",
       "      <td>NaN</td>\n",
       "      <td>NaN</td>\n",
       "      <td>NaN</td>\n",
       "    </tr>\n",
       "    <tr>\n",
       "      <th>3</th>\n",
       "      <td>NaN</td>\n",
       "      <td>NaN</td>\n",
       "      <td>45 rd,  street, hitech, Hd 500038</td>\n",
       "      <td>2022-04-02 00:00:00</td>\n",
       "      <td>dec</td>\n",
       "      <td>5:30:21</td>\n",
       "      <td>NaN</td>\n",
       "      <td>NaN</td>\n",
       "      <td>NaN</td>\n",
       "      <td>NaN</td>\n",
       "      <td>NaN</td>\n",
       "      <td>NaN</td>\n",
       "      <td>NaN</td>\n",
       "      <td>NaN</td>\n",
       "    </tr>\n",
       "    <tr>\n",
       "      <th>4</th>\n",
       "      <td>NaN</td>\n",
       "      <td>NaN</td>\n",
       "      <td>NaN</td>\n",
       "      <td>NaN</td>\n",
       "      <td>NaN</td>\n",
       "      <td>NaN</td>\n",
       "      <td>NaN</td>\n",
       "      <td>NaN</td>\n",
       "      <td>NaN</td>\n",
       "      <td>NaN</td>\n",
       "      <td>NaN</td>\n",
       "      <td>NaN</td>\n",
       "      <td>NaN</td>\n",
       "      <td>NaN</td>\n",
       "    </tr>\n",
       "    <tr>\n",
       "      <th>5</th>\n",
       "      <td>NaN</td>\n",
       "      <td>NaN</td>\n",
       "      <td>NaN</td>\n",
       "      <td>NaN</td>\n",
       "      <td>NaN</td>\n",
       "      <td>NaN</td>\n",
       "      <td>NaN</td>\n",
       "      <td>NaN</td>\n",
       "      <td>NaN</td>\n",
       "      <td>NaN</td>\n",
       "      <td>NaN</td>\n",
       "      <td>NaN</td>\n",
       "      <td>NaN</td>\n",
       "      <td>NaN</td>\n",
       "    </tr>\n",
       "    <tr>\n",
       "      <th>6</th>\n",
       "      <td>NaN</td>\n",
       "      <td>THIS IS CLEAN DATA</td>\n",
       "      <td>NaN</td>\n",
       "      <td>NaN</td>\n",
       "      <td>NaN</td>\n",
       "      <td>NaN</td>\n",
       "      <td>NaN</td>\n",
       "      <td>NaN</td>\n",
       "      <td>NaN</td>\n",
       "      <td>NaN</td>\n",
       "      <td>NaN</td>\n",
       "      <td>NaN</td>\n",
       "      <td>NaN</td>\n",
       "      <td>NaN</td>\n",
       "    </tr>\n",
       "    <tr>\n",
       "      <th>7</th>\n",
       "      <td>NaN</td>\n",
       "      <td>NaN</td>\n",
       "      <td>House add</td>\n",
       "      <td>street</td>\n",
       "      <td>city</td>\n",
       "      <td>state</td>\n",
       "      <td>zip</td>\n",
       "      <td>month</td>\n",
       "      <td>data</td>\n",
       "      <td>year</td>\n",
       "      <td>name</td>\n",
       "      <td>hr</td>\n",
       "      <td>min</td>\n",
       "      <td>sec</td>\n",
       "    </tr>\n",
       "    <tr>\n",
       "      <th>8</th>\n",
       "      <td>NaN</td>\n",
       "      <td>NaN</td>\n",
       "      <td>45 rd</td>\n",
       "      <td>kenith</td>\n",
       "      <td>btm</td>\n",
       "      <td>banga</td>\n",
       "      <td>50038</td>\n",
       "      <td>3</td>\n",
       "      <td>4</td>\n",
       "      <td>2022</td>\n",
       "      <td>abc</td>\n",
       "      <td>8</td>\n",
       "      <td>30</td>\n",
       "      <td>21</td>\n",
       "    </tr>\n",
       "  </tbody>\n",
       "</table>\n",
       "</div>"
      ],
      "text/plain": [
       "   Unnamed: 0               Unnamed: 1  \\\n",
       "0         NaN  THIS IS NOT CLEAN DATA    \n",
       "1         NaN                      NaN   \n",
       "2         NaN                      NaN   \n",
       "3         NaN                      NaN   \n",
       "4         NaN                      NaN   \n",
       "5         NaN                      NaN   \n",
       "6         NaN      THIS IS CLEAN DATA    \n",
       "7         NaN                      NaN   \n",
       "8         NaN                      NaN   \n",
       "\n",
       "                                    Unnamed: 2           Unnamed: 3  \\\n",
       "0                                          NaN                  NaN   \n",
       "1                                         ADDR                   DT   \n",
       "2  45 rd, kenith street, btm, bangalore 500038  2022-04-03 00:00:00   \n",
       "3            45 rd,  street, hitech, Hd 500038  2022-04-02 00:00:00   \n",
       "4                                          NaN                  NaN   \n",
       "5                                          NaN                  NaN   \n",
       "6                                          NaN                  NaN   \n",
       "7                                    House add               street   \n",
       "8                                        45 rd              kenith    \n",
       "\n",
       "  Unnamed: 4 Unnamed: 5 Unnamed: 6 Unnamed: 7 Unnamed: 8 Unnamed: 9  \\\n",
       "0        NaN        NaN        NaN        NaN        NaN        NaN   \n",
       "1       NAME       time        NaN        NaN        NaN        NaN   \n",
       "2        abc    8:30:21        NaN        NaN        NaN        NaN   \n",
       "3        dec    5:30:21        NaN        NaN        NaN        NaN   \n",
       "4        NaN        NaN        NaN        NaN        NaN        NaN   \n",
       "5        NaN        NaN        NaN        NaN        NaN        NaN   \n",
       "6        NaN        NaN        NaN        NaN        NaN        NaN   \n",
       "7       city      state        zip      month       data       year   \n",
       "8        btm      banga      50038          3          4       2022   \n",
       "\n",
       "  Unnamed: 10 Unnamed: 11 Unnamed: 12 Unnamed: 13  \n",
       "0         NaN         NaN         NaN         NaN  \n",
       "1         NaN         NaN         NaN         NaN  \n",
       "2         NaN         NaN         NaN         NaN  \n",
       "3         NaN         NaN         NaN         NaN  \n",
       "4         NaN         NaN         NaN         NaN  \n",
       "5         NaN         NaN         NaN         NaN  \n",
       "6         NaN         NaN         NaN         NaN  \n",
       "7        name          hr         min         sec  \n",
       "8         abc           8          30          21  "
      ]
     },
     "execution_count": 70,
     "metadata": {},
     "output_type": "execute_result"
    }
   ],
   "source": [
    "file"
   ]
  },
  {
   "cell_type": "code",
   "execution_count": 71,
   "id": "30099f93",
   "metadata": {},
   "outputs": [],
   "source": [
    "# by this file we cannot extract or clean data easily\n",
    "#stick to the basic and focus.let us create a data frame related to data"
   ]
  },
  {
   "cell_type": "code",
   "execution_count": 72,
   "id": "dd9b8927",
   "metadata": {},
   "outputs": [
    {
     "name": "stdout",
     "output_type": "stream",
     "text": [
      "                                          ADDR          DT NAME     time\n",
      "0  45 rd, kenith street, btm, bangalore 500038  03-04-2022  abc  8:30:21\n",
      "1            45 rd,  street, hitech, Hd 500038  02-04-2022  dec  5:30:21\n"
     ]
    }
   ],
   "source": [
    "raw_table={\n",
    "    \"ADDR\":[\"45 rd, kenith street, btm, bangalore 500038\",\"45 rd,  street, hitech, Hd 500038\"],\n",
    "    \"DT\" :[\"03-04-2022\",\"02-04-2022\"],\n",
    "    \"NAME\":[\"abc\",\"dec\"],\n",
    "    \"time\":[\"8:30:21\",\"5:30:21\"]\n",
    "}\n",
    "\n",
    "df=pd.DataFrame(raw_table)\n",
    "print(df)"
   ]
  },
  {
   "cell_type": "markdown",
   "id": "8c6507a5",
   "metadata": {},
   "source": [
    "# # expand=False or its a automatic default attched in str.split(\",\"),which give list of strings./\n",
    "# here expand=True gives in form of Data Frame,where each part of split will placed in seperate column like below"
   ]
  },
  {
   "cell_type": "code",
   "execution_count": 73,
   "id": "5035685a",
   "metadata": {},
   "outputs": [
    {
     "data": {
      "text/html": [
       "<div>\n",
       "<style scoped>\n",
       "    .dataframe tbody tr th:only-of-type {\n",
       "        vertical-align: middle;\n",
       "    }\n",
       "\n",
       "    .dataframe tbody tr th {\n",
       "        vertical-align: top;\n",
       "    }\n",
       "\n",
       "    .dataframe thead th {\n",
       "        text-align: right;\n",
       "    }\n",
       "</style>\n",
       "<table border=\"1\" class=\"dataframe\">\n",
       "  <thead>\n",
       "    <tr style=\"text-align: right;\">\n",
       "      <th></th>\n",
       "      <th>0</th>\n",
       "      <th>1</th>\n",
       "      <th>2</th>\n",
       "      <th>3</th>\n",
       "    </tr>\n",
       "  </thead>\n",
       "  <tbody>\n",
       "    <tr>\n",
       "      <th>0</th>\n",
       "      <td>45 rd</td>\n",
       "      <td>kenith street</td>\n",
       "      <td>btm</td>\n",
       "      <td>bangalore 500038</td>\n",
       "    </tr>\n",
       "    <tr>\n",
       "      <th>1</th>\n",
       "      <td>45 rd</td>\n",
       "      <td>street</td>\n",
       "      <td>hitech</td>\n",
       "      <td>Hd 500038</td>\n",
       "    </tr>\n",
       "  </tbody>\n",
       "</table>\n",
       "</div>"
      ],
      "text/plain": [
       "       0               1        2                  3\n",
       "0  45 rd   kenith street      btm   bangalore 500038\n",
       "1  45 rd          street   hitech          Hd 500038"
      ]
     },
     "execution_count": 73,
     "metadata": {},
     "output_type": "execute_result"
    }
   ],
   "source": [
    "addr_split=df.ADDR.str.split(',',expand=True) #symtax remember\n",
    "addr_split\n",
    "\n",
    "# expand=False or its a automatic default attched in str.split(\",\"),which give list of strings./\n",
    "# here expand=True gives data frame,where each part of split will placed in seperate column like below"
   ]
  },
  {
   "cell_type": "code",
   "execution_count": 74,
   "id": "56b9dab3",
   "metadata": {},
   "outputs": [
    {
     "data": {
      "text/plain": [
       "0    45 rd\n",
       "1    45 rd\n",
       "Name: House add, dtype: object"
      ]
     },
     "execution_count": 74,
     "metadata": {},
     "output_type": "execute_result"
    }
   ],
   "source": [
    "df['House add']=addr_split[0]\n",
    "df['House add']\n",
    "\n",
    "#'House add','street','city','state','zip'"
   ]
  },
  {
   "cell_type": "code",
   "execution_count": 75,
   "id": "33af6bf6",
   "metadata": {},
   "outputs": [
    {
     "data": {
      "text/plain": [
       "0     kenith street\n",
       "1            street\n",
       "Name: street, dtype: object"
      ]
     },
     "execution_count": 75,
     "metadata": {},
     "output_type": "execute_result"
    }
   ],
   "source": [
    "df['street']=addr_split[1]\n",
    "df['street']"
   ]
  },
  {
   "cell_type": "code",
   "execution_count": 76,
   "id": "17fc9eaa",
   "metadata": {},
   "outputs": [
    {
     "data": {
      "text/plain": [
       "0    kenith street\n",
       "1           street\n",
       "Name: street, dtype: object"
      ]
     },
     "execution_count": 76,
     "metadata": {},
     "output_type": "execute_result"
    }
   ],
   "source": [
    "df['street']=addr_split[1].str.strip()\n",
    "df['street']\n",
    "\n",
    "#strip() we use if data have extra spaces it will removed\n"
   ]
  },
  {
   "cell_type": "code",
   "execution_count": 77,
   "id": "e884a30c",
   "metadata": {},
   "outputs": [
    {
     "data": {
      "text/plain": [
       "0       btm\n",
       "1    hitech\n",
       "Name: city, dtype: object"
      ]
     },
     "execution_count": 77,
     "metadata": {},
     "output_type": "execute_result"
    }
   ],
   "source": [
    "df['city']=addr_split[2].str.strip()\n",
    "df['city']"
   ]
  },
  {
   "cell_type": "code",
   "execution_count": 78,
   "id": "a0dc5922",
   "metadata": {},
   "outputs": [
    {
     "data": {
      "text/plain": [
       "0    bangalore 500038\n",
       "1           Hd 500038\n",
       "Name: state and pin, dtype: object"
      ]
     },
     "execution_count": 78,
     "metadata": {},
     "output_type": "execute_result"
    }
   ],
   "source": [
    "df['state and pin']=addr_split[3].str.strip()\n",
    "df['state and pin']"
   ]
  },
  {
   "cell_type": "code",
   "execution_count": 79,
   "id": "966c1976",
   "metadata": {},
   "outputs": [
    {
     "data": {
      "text/html": [
       "<div>\n",
       "<style scoped>\n",
       "    .dataframe tbody tr th:only-of-type {\n",
       "        vertical-align: middle;\n",
       "    }\n",
       "\n",
       "    .dataframe tbody tr th {\n",
       "        vertical-align: top;\n",
       "    }\n",
       "\n",
       "    .dataframe thead th {\n",
       "        text-align: right;\n",
       "    }\n",
       "</style>\n",
       "<table border=\"1\" class=\"dataframe\">\n",
       "  <thead>\n",
       "    <tr style=\"text-align: right;\">\n",
       "      <th></th>\n",
       "      <th>ADDR</th>\n",
       "      <th>DT</th>\n",
       "      <th>NAME</th>\n",
       "      <th>time</th>\n",
       "      <th>House add</th>\n",
       "      <th>street</th>\n",
       "      <th>city</th>\n",
       "      <th>state and pin</th>\n",
       "    </tr>\n",
       "  </thead>\n",
       "  <tbody>\n",
       "    <tr>\n",
       "      <th>0</th>\n",
       "      <td>45 rd, kenith street, btm, bangalore 500038</td>\n",
       "      <td>03-04-2022</td>\n",
       "      <td>abc</td>\n",
       "      <td>8:30:21</td>\n",
       "      <td>45 rd</td>\n",
       "      <td>kenith street</td>\n",
       "      <td>btm</td>\n",
       "      <td>bangalore 500038</td>\n",
       "    </tr>\n",
       "    <tr>\n",
       "      <th>1</th>\n",
       "      <td>45 rd,  street, hitech, Hd 500038</td>\n",
       "      <td>02-04-2022</td>\n",
       "      <td>dec</td>\n",
       "      <td>5:30:21</td>\n",
       "      <td>45 rd</td>\n",
       "      <td>street</td>\n",
       "      <td>hitech</td>\n",
       "      <td>Hd 500038</td>\n",
       "    </tr>\n",
       "  </tbody>\n",
       "</table>\n",
       "</div>"
      ],
      "text/plain": [
       "                                          ADDR          DT NAME     time  \\\n",
       "0  45 rd, kenith street, btm, bangalore 500038  03-04-2022  abc  8:30:21   \n",
       "1            45 rd,  street, hitech, Hd 500038  02-04-2022  dec  5:30:21   \n",
       "\n",
       "  House add         street    city     state and pin  \n",
       "0     45 rd  kenith street     btm  bangalore 500038  \n",
       "1     45 rd         street  hitech         Hd 500038  "
      ]
     },
     "execution_count": 79,
     "metadata": {},
     "output_type": "execute_result"
    }
   ],
   "source": [
    "df"
   ]
  },
  {
   "cell_type": "code",
   "execution_count": 80,
   "id": "cafb7e4d",
   "metadata": {},
   "outputs": [
    {
     "data": {
      "text/plain": [
       "0    bangalore\n",
       "1           Hd\n",
       "Name: state, dtype: object"
      ]
     },
     "execution_count": 80,
     "metadata": {},
     "output_type": "execute_result"
    }
   ],
   "source": [
    "df['state']=df['state and pin'].str.split(' ',expand=True)[0]\n",
    "df['state']"
   ]
  },
  {
   "cell_type": "code",
   "execution_count": 81,
   "id": "b89c8abd",
   "metadata": {},
   "outputs": [
    {
     "data": {
      "text/plain": [
       "0    500038\n",
       "1    500038\n",
       "Name: zip, dtype: object"
      ]
     },
     "execution_count": 81,
     "metadata": {},
     "output_type": "execute_result"
    }
   ],
   "source": [
    "df['zip']=df['state and pin'].str.split(' ',expand=True)[1]\n",
    "df['zip']"
   ]
  },
  {
   "cell_type": "code",
   "execution_count": 89,
   "id": "d96fa1e1",
   "metadata": {},
   "outputs": [
    {
     "data": {
      "text/html": [
       "<div>\n",
       "<style scoped>\n",
       "    .dataframe tbody tr th:only-of-type {\n",
       "        vertical-align: middle;\n",
       "    }\n",
       "\n",
       "    .dataframe tbody tr th {\n",
       "        vertical-align: top;\n",
       "    }\n",
       "\n",
       "    .dataframe thead th {\n",
       "        text-align: right;\n",
       "    }\n",
       "</style>\n",
       "<table border=\"1\" class=\"dataframe\">\n",
       "  <thead>\n",
       "    <tr style=\"text-align: right;\">\n",
       "      <th></th>\n",
       "      <th>date</th>\n",
       "      <th>month</th>\n",
       "      <th>year</th>\n",
       "    </tr>\n",
       "  </thead>\n",
       "  <tbody>\n",
       "    <tr>\n",
       "      <th>0</th>\n",
       "      <td>03</td>\n",
       "      <td>04</td>\n",
       "      <td>2022</td>\n",
       "    </tr>\n",
       "    <tr>\n",
       "      <th>1</th>\n",
       "      <td>02</td>\n",
       "      <td>04</td>\n",
       "      <td>2022</td>\n",
       "    </tr>\n",
       "  </tbody>\n",
       "</table>\n",
       "</div>"
      ],
      "text/plain": [
       "  date month  year\n",
       "0   03    04  2022\n",
       "1   02    04  2022"
      ]
     },
     "execution_count": 89,
     "metadata": {},
     "output_type": "execute_result"
    }
   ],
   "source": [
    "df[['date', 'month', 'year']] = df['DT'].str.split('-', expand=True)\n",
    "df[['date', 'month', 'year']]\n",
    "\n",
    "# df['day'],df['month'],df['year']=df['DT'].str.split('-',2).str\n",
    "# df['day']"
   ]
  },
  {
   "cell_type": "code",
   "execution_count": 83,
   "id": "51c49b43",
   "metadata": {},
   "outputs": [
    {
     "data": {
      "text/plain": [
       "0    03\n",
       "1    02\n",
       "Name: date, dtype: object"
      ]
     },
     "execution_count": 83,
     "metadata": {},
     "output_type": "execute_result"
    }
   ],
   "source": [
    "df.date"
   ]
  },
  {
   "cell_type": "code",
   "execution_count": 84,
   "id": "c24fb2ab",
   "metadata": {},
   "outputs": [
    {
     "data": {
      "text/plain": [
       "0    04\n",
       "1    04\n",
       "Name: month, dtype: object"
      ]
     },
     "execution_count": 84,
     "metadata": {},
     "output_type": "execute_result"
    }
   ],
   "source": [
    "df.month"
   ]
  },
  {
   "cell_type": "code",
   "execution_count": 85,
   "id": "ba30e649",
   "metadata": {},
   "outputs": [
    {
     "data": {
      "text/plain": [
       "0    2022\n",
       "1    2022\n",
       "Name: year, dtype: object"
      ]
     },
     "execution_count": 85,
     "metadata": {},
     "output_type": "execute_result"
    }
   ],
   "source": [
    "df.year"
   ]
  },
  {
   "cell_type": "code",
   "execution_count": 92,
   "id": "cc575f91",
   "metadata": {},
   "outputs": [
    {
     "data": {
      "text/html": [
       "<div>\n",
       "<style scoped>\n",
       "    .dataframe tbody tr th:only-of-type {\n",
       "        vertical-align: middle;\n",
       "    }\n",
       "\n",
       "    .dataframe tbody tr th {\n",
       "        vertical-align: top;\n",
       "    }\n",
       "\n",
       "    .dataframe thead th {\n",
       "        text-align: right;\n",
       "    }\n",
       "</style>\n",
       "<table border=\"1\" class=\"dataframe\">\n",
       "  <thead>\n",
       "    <tr style=\"text-align: right;\">\n",
       "      <th></th>\n",
       "      <th>hr</th>\n",
       "      <th>min</th>\n",
       "      <th>sec</th>\n",
       "    </tr>\n",
       "  </thead>\n",
       "  <tbody>\n",
       "    <tr>\n",
       "      <th>0</th>\n",
       "      <td>8</td>\n",
       "      <td>30</td>\n",
       "      <td>21</td>\n",
       "    </tr>\n",
       "    <tr>\n",
       "      <th>1</th>\n",
       "      <td>5</td>\n",
       "      <td>30</td>\n",
       "      <td>21</td>\n",
       "    </tr>\n",
       "  </tbody>\n",
       "</table>\n",
       "</div>"
      ],
      "text/plain": [
       "  hr min sec\n",
       "0  8  30  21\n",
       "1  5  30  21"
      ]
     },
     "execution_count": 92,
     "metadata": {},
     "output_type": "execute_result"
    }
   ],
   "source": [
    "df[['hr','min','sec']]=df['time'].str.split(':',expand=True)\n",
    "\n",
    "df[['hr','min','sec']]\n",
    "\n",
    "# df[['date', 'month', 'year']] = df['DT'].str.split('-', expand=True)\n",
    "# df[['date', 'month', 'year']]\n",
    "\n"
   ]
  },
  {
   "cell_type": "code",
   "execution_count": 93,
   "id": "9af0d3c0",
   "metadata": {},
   "outputs": [
    {
     "data": {
      "text/plain": [
       "0    8\n",
       "1    5\n",
       "Name: hr, dtype: object"
      ]
     },
     "execution_count": 93,
     "metadata": {},
     "output_type": "execute_result"
    }
   ],
   "source": [
    "df['hr']"
   ]
  },
  {
   "cell_type": "code",
   "execution_count": 94,
   "id": "18c3535f",
   "metadata": {},
   "outputs": [
    {
     "data": {
      "text/plain": [
       "0    30\n",
       "1    30\n",
       "Name: min, dtype: object"
      ]
     },
     "execution_count": 94,
     "metadata": {},
     "output_type": "execute_result"
    }
   ],
   "source": [
    "df['min']"
   ]
  },
  {
   "cell_type": "code",
   "execution_count": 95,
   "id": "18682274",
   "metadata": {},
   "outputs": [
    {
     "data": {
      "text/plain": [
       "0    21\n",
       "1    21\n",
       "Name: sec, dtype: object"
      ]
     },
     "execution_count": 95,
     "metadata": {},
     "output_type": "execute_result"
    }
   ],
   "source": [
    "df['sec']"
   ]
  },
  {
   "cell_type": "code",
   "execution_count": 97,
   "id": "5f31e1a4",
   "metadata": {},
   "outputs": [
    {
     "data": {
      "text/html": [
       "<div>\n",
       "<style scoped>\n",
       "    .dataframe tbody tr th:only-of-type {\n",
       "        vertical-align: middle;\n",
       "    }\n",
       "\n",
       "    .dataframe tbody tr th {\n",
       "        vertical-align: top;\n",
       "    }\n",
       "\n",
       "    .dataframe thead th {\n",
       "        text-align: right;\n",
       "    }\n",
       "</style>\n",
       "<table border=\"1\" class=\"dataframe\">\n",
       "  <thead>\n",
       "    <tr style=\"text-align: right;\">\n",
       "      <th></th>\n",
       "      <th>House add</th>\n",
       "      <th>street</th>\n",
       "      <th>city</th>\n",
       "      <th>state</th>\n",
       "      <th>zip</th>\n",
       "      <th>date</th>\n",
       "      <th>month</th>\n",
       "      <th>year</th>\n",
       "      <th>hr</th>\n",
       "      <th>min</th>\n",
       "      <th>sec</th>\n",
       "    </tr>\n",
       "  </thead>\n",
       "  <tbody>\n",
       "    <tr>\n",
       "      <th>0</th>\n",
       "      <td>45 rd</td>\n",
       "      <td>kenith street</td>\n",
       "      <td>btm</td>\n",
       "      <td>bangalore</td>\n",
       "      <td>500038</td>\n",
       "      <td>03</td>\n",
       "      <td>04</td>\n",
       "      <td>2022</td>\n",
       "      <td>8</td>\n",
       "      <td>30</td>\n",
       "      <td>21</td>\n",
       "    </tr>\n",
       "    <tr>\n",
       "      <th>1</th>\n",
       "      <td>45 rd</td>\n",
       "      <td>street</td>\n",
       "      <td>hitech</td>\n",
       "      <td>Hd</td>\n",
       "      <td>500038</td>\n",
       "      <td>02</td>\n",
       "      <td>04</td>\n",
       "      <td>2022</td>\n",
       "      <td>5</td>\n",
       "      <td>30</td>\n",
       "      <td>21</td>\n",
       "    </tr>\n",
       "  </tbody>\n",
       "</table>\n",
       "</div>"
      ],
      "text/plain": [
       "  House add         street    city      state     zip date month  year hr min  \\\n",
       "0     45 rd  kenith street     btm  bangalore  500038   03    04  2022  8  30   \n",
       "1     45 rd         street  hitech         Hd  500038   02    04  2022  5  30   \n",
       "\n",
       "  sec  \n",
       "0  21  \n",
       "1  21  "
      ]
     },
     "execution_count": 97,
     "metadata": {},
     "output_type": "execute_result"
    }
   ],
   "source": [
    "df=df[['House add','street','city','state','zip','date', 'month', 'year','hr','min','sec']]\n",
    "df"
   ]
  },
  {
   "cell_type": "code",
   "execution_count": null,
   "id": "041877a4",
   "metadata": {},
   "outputs": [],
   "source": []
  }
 ],
 "metadata": {
  "kernelspec": {
   "display_name": "Python 3 (ipykernel)",
   "language": "python",
   "name": "python3"
  },
  "language_info": {
   "codemirror_mode": {
    "name": "ipython",
    "version": 3
   },
   "file_extension": ".py",
   "mimetype": "text/x-python",
   "name": "python",
   "nbconvert_exporter": "python",
   "pygments_lexer": "ipython3",
   "version": "3.11.5"
  }
 },
 "nbformat": 4,
 "nbformat_minor": 5
}
